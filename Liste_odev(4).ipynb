{
 "cells": [
  {
   "cell_type": "markdown",
   "metadata": {},
   "source": [
    "### Ödev 1\n",
    "\n",
    "liste = [\"Python\",True,9,\"3\",8.4,\"Hi-Kod\",\"False\",4.7]\n",
    "\n",
    "1. Aşağıdaki işlemleri indexing ve slicing kullanarak liste üzerinde uygulayın.\n",
    "\n",
    "   - \"3\" değerine ulaşmak için indexleme yapın.\n",
    "   - \"Hi-Kod\" değerine ulaşmak için indexleme yapın.\n",
    "   - 4.7 değerine ulaşmak için indexleme yapın.\n",
    "   - 9,\"3\",8.4,\"Hi-Kod\" değerlerine ulaşmak için slicing yapın.\n",
    "   - 8.4,\"Hi-Kod\",\"False\",4.7 değerlerine ulaşmak için slicing yapın."
   ]
  },
  {
   "cell_type": "code",
   "execution_count": 2,
   "metadata": {},
   "outputs": [
    {
     "name": "stdout",
     "output_type": "stream",
     "text": [
      "3\n",
      "Hi-Kod\n",
      "4.7\n",
      "[9, '3', 8.4, 'Hi-Kod']\n",
      "[8.4, 'Hi-Kod', 'False', 4.7]\n"
     ]
    }
   ],
   "source": [
    "liste = [\"Python\", True, 9, \"3\", 8.4, \"Hi-Kod\", \"False\", 4.7]\n",
    "\n",
    "# \"3\" değerine ulaşmak için indexleme yapıyorum.\n",
    "print(liste[3])  # Çıktı: \"3\"\n",
    "\n",
    "# \"Hi-Kod\" değerine ulaşmak için indexleme yapıyorum.\n",
    "print(liste[5])  # Çıktı: \"Hi-Kod\"\n",
    "\n",
    "# 4.7 değerine ulaşmak için indexleme yapıyorum.\n",
    "print(liste[7])  # Çıktı: 4.7\n",
    "\n",
    "# 9, \"3\", 8.4, \"Hi-Kod\" değerlerine ulaşmak için slicing yapıyorum.\n",
    "print(liste[2:6])  # Çıktı: [9, \"3\", 8.4, \"Hi-Kod\"]\n",
    "\n",
    "# 8.4, \"Hi-Kod\", \"False\", 4.7 değerlerine ulaşmak için slicing yapıyorum.\n",
    "print(liste[4:8])  # Çıktı: [8.4, \"Hi-Kod\", \"False\", 4.7]ı: [8.4, \"Hi-Kod\", \"False\", 4.7]"
   ]
  },
  {
   "cell_type": "markdown",
   "metadata": {},
   "source": [
    "### Ödev 2\n",
    "\n",
    "Verilen listede bulunan string veri tipindeki öğeleri yeni_liste isimli listeye eklenir.\n",
    "\n",
    "liste = [\"Python\",True,9,\"3\",8.4,\"Hi-Kod\",\"False\",4.7]"
   ]
  },
  {
   "cell_type": "code",
   "execution_count": 3,
   "metadata": {},
   "outputs": [
    {
     "name": "stdout",
     "output_type": "stream",
     "text": [
      "['Python', '3', 'Hi-Kod', 'False']\n"
     ]
    }
   ],
   "source": [
    "liste = [\"Python\", True, 9, \"3\", 8.4, \"Hi-Kod\", \"False\", 4.7]\n",
    "\n",
    "# String veri tipindeki öğeleri filtreleyip yeni_liste'ye ekliyoruz.\n",
    "yeni_liste = [eleman for eleman in liste if isinstance(eleman, str)]\n",
    "\n",
    "# Sonucu yazdırıyoruz.\n",
    "print(yeni_liste)"
   ]
  },
  {
   "cell_type": "markdown",
   "metadata": {},
   "source": [
    "### Ödev 3\n",
    "\n",
    "Enumerate methodunu araştırın ve aşağıdaki örneği enumerate methodu ile yapın."
   ]
  },
  {
   "cell_type": "code",
   "execution_count": 4,
   "metadata": {},
   "outputs": [
    {
     "name": "stdout",
     "output_type": "stream",
     "text": [
      "0. indexte bulunan meyve: Elma\n",
      "1. indexte bulunan meyve: Armut\n",
      "2. indexte bulunan meyve: Muz\n",
      "3. indexte bulunan meyve: Çilek\n"
     ]
    }
   ],
   "source": [
    "meyveler = [\"Elma\", \"Armut\", \"Muz\", \"Çilek\"]\n",
    "\n",
    "for index, meyve in enumerate(meyveler):\n",
    "    print(\"{}. indexte bulunan meyve: {}\".format(index, meyve))"
   ]
  },
  {
   "cell_type": "markdown",
   "metadata": {},
   "source": []
  }
 ],
 "metadata": {
  "kernelspec": {
   "display_name": "Python 3",
   "language": "python",
   "name": "python3"
  },
  "language_info": {
   "codemirror_mode": {
    "name": "ipython",
    "version": 3
   },
   "file_extension": ".py",
   "mimetype": "text/x-python",
   "name": "python",
   "nbconvert_exporter": "python",
   "pygments_lexer": "ipython3",
   "version": "3.12.2"
  }
 },
 "nbformat": 4,
 "nbformat_minor": 2
}
