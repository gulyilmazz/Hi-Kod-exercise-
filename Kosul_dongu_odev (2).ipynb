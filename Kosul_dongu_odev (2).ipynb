{
 "cells": [
  {
   "cell_type": "markdown",
   "id": "409f0f4a",
   "metadata": {},
   "source": [
    "**Ödev-1:** Kullanıcıdan maaş bilgisini istenir ve bu bilgiye göre maaşından ne kadar vergi kesileceğini hesaplanır. Kullanıcının geliri;\n",
    "\n",
    "1. 10000 ve altındaysa maaşından %5 kesinti olur.\n",
    "2. 25000 ve altındaysa maaşından %10 kesinti olur.\n",
    "3. 45000 ve altındaysa maaşından %25 kesinti olur.\n",
    "4. Diğer koşullarda %30 kesinti olur.\n",
    "\n",
    "Bu durumlara göre kullanıcının yeni maaşı yazdırılır."
   ]
  },
  {
   "cell_type": "code",
   "execution_count": 1,
   "id": "5246e510",
   "metadata": {},
   "outputs": [
    {
     "name": "stdout",
     "output_type": "stream",
     "text": [
      "Brüt maaşınız: 25000.00 TL\n",
      "Kesilen vergi: 2500.00 TL\n",
      "Yeni maaşınız: 22500.00 TL\n"
     ]
    }
   ],
   "source": [
    "def vergi_hesapla(maaş):\n",
    "    if maaş <= 10000:\n",
    "        kesinti_orani = 0.05\n",
    "    elif maaş <= 25000:\n",
    "        kesinti_orani = 0.10\n",
    "    elif maaş <= 45000:\n",
    "        kesinti_orani = 0.25\n",
    "    else:\n",
    "        kesinti_orani = 0.30\n",
    "\n",
    "    kesilen_vergi = maaş * kesinti_orani\n",
    "    yeni_maaş = maaş - kesilen_vergi\n",
    "\n",
    "    return kesilen_vergi, yeni_maaş\n",
    "\n",
    "maaş = float(input(\"Lütfen maaşinizi giriniz: \"))\n",
    "kesilen_vergi, yeni_maaş = vergi_hesapla(maaş)\n",
    "\n",
    "print(f\"Brüt maaşiniz: {maaş:.2f} TL\")\n",
    "print(f\"Kesilen vergi: {kesilen_vergi:.2f} TL\")\n",
    "print(f\"Yeni maaşiniz: {yeni_maaş:.2f} TL\")"
   ]
  },
  {
   "cell_type": "markdown",
   "id": "f5fe8798",
   "metadata": {},
   "source": [
    "**Ödev-2:** Kullanıcıdan kullanıcı adı ve şifre oluşturmasını istenir. Şifrenin uzunluğu altı haneye ulaşmışsa hesabınız oluşturuldu mesajı alınır, altı haneden azsa altı haneli şifre oluşturması gerektiğinin mesajı alınır. *(Sadece koşul kullanılması yeterli.)*"
   ]
  },
  {
   "cell_type": "code",
   "execution_count": 2,
   "id": "6acffe57",
   "metadata": {},
   "outputs": [
    {
     "name": "stdout",
     "output_type": "stream",
     "text": [
      "Hesabiniz basariyla olusturuldu!\n"
     ]
    }
   ],
   "source": [
    "kullanici_adi = input(\"Lütfen bir kullanici adi olusturun: \" )\n",
    "sifre = input(\"Lütfen bir kullanici adi olusturun: \")\n",
    "\n",
    "if len(sifre)>= 6:\n",
    "    print(\"Hesabiniz basariyla olusturuldu!\")\n",
    "else:\n",
    "    print(\"Şifreniz en az 6 haneli olmalidir!\")"
   ]
  },
  {
   "cell_type": "markdown",
   "id": "aaccf11a",
   "metadata": {},
   "source": [
    "**Ödev-3:** Bir önceki örnek geliştirilir.\n",
    "\n",
    "1. Kullanıcı girdiği şifre 5 ve 10 hane arasında olmak zorunda.\n",
    "2. Eğer bu koşula uyuyorsa \"Hesabınız oluşturuldu.\" mesajı alır.\n",
    "3. Koşulu sağlamıyorsa \"Lütfen girdiniz şifre 5 haneden az 10 haneden fazla olmasın!\" uyarısı alır.\n",
    "4. Bunu oluştururken kullanıcı istediğimiz şartlarda şifre oluşturana kadar sormaya devam eder"
   ]
  },
  {
   "cell_type": "code",
   "execution_count": 3,
   "id": "039e50dc",
   "metadata": {},
   "outputs": [
    {
     "name": "stdout",
     "output_type": "stream",
     "text": [
      "Hesabınız başarıyla oluşturuldu!\n"
     ]
    }
   ],
   "source": [
    "kullanici_adi = input(\"Lütfen bir kullanici adı oluşturun: \")\n",
    "\n",
    "while True:\n",
    "    sifre = input(\"Lütfen bir şifre oluşturun (5-10 karakter arasi olmalı): \")\n",
    "    \n",
    "    if 5 <= len(sifre) <= 10:\n",
    "        print(\"Hesabınız başarıyla oluşturuldu!\")\n",
    "        break\n",
    "    else:\n",
    "        print(\"Lütfen girdiğiniz şifre 5 haneden az, 10 haneden fazla olmasin!\")"
   ]
  },
  {
   "cell_type": "markdown",
   "id": "8ba81863",
   "metadata": {},
   "source": [
    "**Ödev-4:** Kullanıcıdan isim ve şifre isteyeceğiz ve şifre girişi için üç hak verilir.\n",
    "\n",
    "1. Eğer önceden tanımlı şifre ile kullanıcıdan gelen şifre aynıysa \"Giriş yapıldı.\" yazar.\n",
    "2. Şifre girişi yanlışsa \"Yanlış şifre girildi!\" uyarısı verilsin ve üç yanlış denemede program biter.\n",
    "3. Tercihe göre kalan hak bilgisi verilir."
   ]
  },
  {
   "cell_type": "code",
   "execution_count": 8,
   "id": "8f45ea0c",
   "metadata": {},
   "outputs": [
    {
     "name": "stdout",
     "output_type": "stream",
     "text": [
      "Yanlış şifre girildi! Kalan hakkınız: 2\n",
      "Giriş yapıldı.\n"
     ]
    }
   ],
   "source": [
    "dogru_sifre = \"123456\"  # Önceden tanımlı şifre\n",
    "hak = 3  # Kullanıcının toplam 3 deneme hakkı var\n",
    "\n",
    "kullanici_adi = input(\"Lütfen kullanıcı adınızı giriniz: \")\n",
    "\n",
    "while hak > 0:\n",
    "    sifre = input(\"Şifrenizi giriniz: \")\n",
    "    \n",
    "    if sifre == dogru_sifre:\n",
    "        print(\"Giriş yapıldı.\")\n",
    "        break\n",
    "    else:\n",
    "        hak -= 1\n",
    "        if hak > 0:\n",
    "            print(f\"Yanlış şifre girildi! Kalan hakkınız: {hak}\")\n",
    "        else:\n",
    "            print(\"Üç kez yanlış şifre girdiniz. Giriş başarısız!\")"
   ]
  },
  {
   "cell_type": "code",
   "execution_count": null,
   "id": "e732b207",
   "metadata": {},
   "outputs": [],
   "source": []
  }
 ],
 "metadata": {
  "kernelspec": {
   "display_name": "Python 3",
   "language": "python",
   "name": "python3"
  },
  "language_info": {
   "codemirror_mode": {
    "name": "ipython",
    "version": 3
   },
   "file_extension": ".py",
   "mimetype": "text/x-python",
   "name": "python",
   "nbconvert_exporter": "python",
   "pygments_lexer": "ipython3",
   "version": "3.12.2"
  }
 },
 "nbformat": 4,
 "nbformat_minor": 5
}
