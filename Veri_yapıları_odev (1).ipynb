{
 "cells": [
  {
   "cell_type": "markdown",
   "id": "032d81b2",
   "metadata": {},
   "source": [
    "# 1\n",
    "x = 3 ----> floata çevirelim. Çevirdikten sonra beri tipinide yazdıralım.\n",
    "\n",
    "y = 4.5 -----> integere çevirelim. Çevirdikten sonra beri tipinide yazdıralım.\n",
    "\n",
    "z = \"8\" -----> integera çevirelim. Çevirdikten sonra beri tipinide yazdıralım.\n",
    "\n",
    "a = \"12\" -----> floata çevirelim. Çevirdikten sonra beri tipinide yazdıralım.\n",
    "\n",
    "b = \"46.8\" ------> integera çevirelim. Çevirdikten sonra beri tipinide yazdıralım."
   ]
  },
  {
   "cell_type": "code",
   "execution_count": 1,
   "id": "f1b735c0",
   "metadata": {},
   "outputs": [
    {
     "name": "stdout",
     "output_type": "stream",
     "text": [
      "x'in float hali:3.0, Veri tipi: <class 'float'>\n",
      "y'nin integer hali: 4,Veri tipi: <class 'int'>\n",
      "z'nin integer hali:8, Veri tipi:<class 'int'>\n",
      "a'nın float hali: 12.0,Veri tipi:<class 'float'>\n",
      "b'nin integer hali: 46, Veri tipi: <class 'int'>\n"
     ]
    }
   ],
   "source": [
    "#Değişken tanımlamaları\n",
    "x=3\n",
    "y=4.5\n",
    "z=\"8\"\n",
    "a=\"12\"\n",
    "b=\"46.8\"\n",
    "\n",
    "#Dönüşümler ve yazdırmalar\n",
    "x_float =float(x)\n",
    "print(f\"x'in float hali:{x_float}, Veri tipi: {type(x_float)}\")\n",
    "\n",
    "y_int = int(y)\n",
    "print(f\"y'nin integer hali: {y_int},Veri tipi: {type(y_int)}\")\n",
    "\n",
    "z_int= int(z)\n",
    "print(f\"z'nin integer hali:{z_int}, Veri tipi:{type(z_int)}\")\n",
    "\n",
    "a_float = float(a)\n",
    "print(f\"a'nın float hali: {a_float},Veri tipi:{type(a_float)}\")\n",
    "\n",
    "#b değişkeni ondalıklı bir sayı içerdiği için doğrudan integer'a çevrimeyiz.\n",
    "# Önce float'a çevirmek, sonra integer yapmak gerekiyor.\n",
    "b_float = float(b)\n",
    "b_int = int(b_float)\n",
    "print(f\"b'nin integer hali: {b_int}, Veri tipi: {type(b_int)}\")"
   ]
  },
  {
   "cell_type": "markdown",
   "id": "95509718",
   "metadata": {},
   "source": [
    "# 2 \n",
    "İsimlerden oluşan üç değişkene yaş değerleri atanır. Belirlenen üç değişken birbiriyle karşılaştırma operatörleri ile karşılaştırılır. Bu karşılaştırmalara mantıksal operatörler de eklenir."
   ]
  },
  {
   "cell_type": "code",
   "execution_count": 2,
   "id": "50f77b4f",
   "metadata": {},
   "outputs": [
    {
     "name": "stdout",
     "output_type": "stream",
     "text": [
      "Zeynep, Sevim'den büyük mü? True\n",
      "Ela, Zeynep'den küçük mü? True\n",
      "Sevim ve Ela aynı yaşta mı? False\n",
      "Zeynep, hem Sevim'den hem de Ela'dan büyük mü? True\n",
      "Sevim, Ela’dan büyük veya Zeynep ile aynı yaşta mı? True\n",
      "Ela, Zeynep ile aynı yaşta mı veya Sevim’den küçük mü? True\n"
     ]
    }
   ],
   "source": [
    "# İsimlere yaş değerleri atıyorum\n",
    "Sevim= 25\n",
    "Zeynep = 30\n",
    "Ela = 20\n",
    "\n",
    "# Karşılaştırmalar\n",
    "print(f\"Zeynep, Sevim'den büyük mü? {Zeynep > Sevim}\")\n",
    "print(f\"Ela, Zeynep'den küçük mü? {Ela < Zeynep}\")\n",
    "print(f\"Sevim ve Ela aynı yaşta mı? {Sevim == Ela}\")\n",
    "\n",
    "# Mantıksal Operatörler\n",
    "print(f\"Zeynep, hem Sevim'den hem de Ela'dan büyük mü? { Zeynep> Sevim and Zeynep >Ela}\")\n",
    "print(f\"Sevim, Ela’dan büyük veya Zeynep ile aynı yaşta mı? {Sevim > Ela or Sevim == Zeynep}\")\n",
    "print(f\"Ela, Zeynep ile aynı yaşta mı veya Sevim’den küçük mü? {Ela == Zeynep or Ela < Sevim}\")"
   ]
  },
  {
   "cell_type": "markdown",
   "id": "a1a0eb92",
   "metadata": {},
   "source": [
    "# 3\n",
    "Kullanıcıdan iki değer girmesini istenir. Girilen değerlerin toplama, çıkarma, çarpma, bölme sonuçlarını yazdırılır."
   ]
  },
  {
   "cell_type": "code",
   "execution_count": 4,
   "id": "c361e45a",
   "metadata": {},
   "outputs": [
    {
     "name": "stdout",
     "output_type": "stream",
     "text": [
      "12.0 + 24.0 = 36.0\n",
      "12.0 - 24.0 = -12.0\n",
      "12.0 * 24.0 = 288.0\n",
      "12.0 / 24.0 = 0.5\n"
     ]
    }
   ],
   "source": [
    "# Kullanıcıdan iki sayı alma\n",
    "sayi1 = float(input(\"Birinci sayiyi girin: \"))\n",
    "sayi2 = float(input(\"İkinci sayiyi girin: \"))\n",
    "\n",
    "# Dört işlem\n",
    "toplam = sayi1 + sayi2\n",
    "fark = sayi1 - sayi2\n",
    "carpim = sayi1 * sayi2\n",
    "if sayi2 != 0:  # Bölme işleminde sıfıra bölme hatasını önlemek için kontrol\n",
    "    bolum = sayi1 / sayi2\n",
    "else:\n",
    "    bolum = \"Tanimsiz (Sifira bölme hatasi)\"\n",
    "\n",
    "# Sonuçları ekrana yazdırma\n",
    "print(f\"{sayi1} + {sayi2} = {toplam}\")\n",
    "print(f\"{sayi1} - {sayi2} = {fark}\")\n",
    "print(f\"{sayi1} * {sayi2} = {carpim}\")\n",
    "print(f\"{sayi1} / {sayi2} = {bolum}\")"
   ]
  },
  {
   "cell_type": "markdown",
   "id": "060b0bea",
   "metadata": {},
   "source": [
    "# 4\n",
    "Kullanıcıdan isim, yaş, şehir ve meslek bilgilerini istenir ve cevaplarını yazdırılır."
   ]
  },
  {
   "cell_type": "code",
   "execution_count": 5,
   "id": "6f5dea59",
   "metadata": {},
   "outputs": [
    {
     "name": "stdout",
     "output_type": "stream",
     "text": [
      "\n",
      "İsim: Gül\n",
      "Yaş: 24\n",
      "Şehir: Gaziantep\n",
      "Meslek: Yazılım Mühendisi\n"
     ]
    }
   ],
   "source": [
    "# Kullanıcıdan bilgileri alma\n",
    "isim = input(\"İsminiz nedir? \")\n",
    "yas = input(\"Yaşiniz kaç? \")\n",
    "sehir = input(\"Hangi şehirde yaşiyorsunuz? \")\n",
    "meslek = input(\"Mesleğiniz nedir? \")\n",
    "\n",
    "# Kullanıcı bilgilerini yazdırma\n",
    "print(f\"\\nİsim: {isim}\")\n",
    "print(f\"Yaş: {yas}\")\n",
    "print(f\"Şehir: {sehir}\")\n",
    "print(f\"Meslek: {meslek}\")"
   ]
  },
  {
   "cell_type": "markdown",
   "id": "55e1a34e",
   "metadata": {},
   "source": [
    "# 5\n",
    "\"Hi-Kod Veri Bilimi Atölyesi\" ifadesini bir değişkene tanımlanır.\n",
    "\n",
    "\n",
    " 1. İfadedeki her bir kelimeyi (\"Hi-Kod\", \"Veri\", \"Bilimi\", \"Atölyesi\") değişken içinden seçilir. \n",
    " 2. İfadeyi hepsini büyük harf olacak hale çevrilir. (\"HI-KOD VERİ BİLİMİ ATÖLYESİ\") \n",
    " 3. İfadeyi hepsini büyük harf olacak hale çevrilir.(\"hi-kod veri bilimi atölyesi\") \n",
    "\n",
    "\"0123456789\" ifadesindeki yalnızca çift sayıları ve yalnızca tek sayıları seçilir. (\"02468\", \"13579\")"
   ]
  },
  {
   "cell_type": "code",
   "execution_count": 7,
   "id": "0fc1bc40",
   "metadata": {},
   "outputs": [
    {
     "name": "stdout",
     "output_type": "stream",
     "text": [
      "Kelimeler: Hi-Kod, Veri, Bilimi, Atölyesi\n",
      "Büyük harfli ifade:HI-KOD VERI BILIMI ATÖLYESI\n",
      "Küçük harfli ifade:hi-kod veri bilimi atölyesi\n",
      "Çift sayilar: 02468\n",
      "Tek sayilar:13579\n"
     ]
    }
   ],
   "source": [
    "# 1. İfade bir değişkene atanır\n",
    "ifade = \"Hi-Kod Veri Bilimi Atölyesi\"\n",
    "\n",
    "# 2. Kelimeleri ayrı değişkenlere atama\n",
    "kelime1, kelime2, kelime3, kelime4 = ifade.split()\n",
    "\n",
    "# 3. Tüm harfleri büyük yapma\n",
    "ifade_buyuk = ifade.upper()\n",
    "\n",
    "# 4. Tüm harfleri küçük yapma\n",
    "ifade_kucuk = ifade.lower()\n",
    "\n",
    "# 5. Sayılardan sadece çift ve tek olanları ayırma\n",
    "sayi_dizisi = \"0123456789\"\n",
    "cift_sayilar = sayi_dizisi[::2]  # 0,2,4,6,8\n",
    "tek_sayilar = sayi_dizisi[1::2]  # 1,3,5,7,9\n",
    "\n",
    "# Sonuçları ekrana yazdırma\n",
    "print(f\"Kelimeler: {kelime1}, {kelime2}, {kelime3}, {kelime4}\")\n",
    "print(f\"Büyük harfli ifade:{ifade_buyuk}\")\n",
    "print(f\"Küçük harfli ifade:{ifade_kucuk}\")\n",
    "print(f\"Çift sayilar: {cift_sayilar}\")\n",
    "print(f\"Tek sayilar:{tek_sayilar}\")\n"
   ]
  },
  {
   "cell_type": "code",
   "execution_count": null,
   "id": "bf6015d4",
   "metadata": {},
   "outputs": [],
   "source": []
  }
 ],
 "metadata": {
  "kernelspec": {
   "display_name": "Python 3",
   "language": "python",
   "name": "python3"
  },
  "language_info": {
   "codemirror_mode": {
    "name": "ipython",
    "version": 3
   },
   "file_extension": ".py",
   "mimetype": "text/x-python",
   "name": "python",
   "nbconvert_exporter": "python",
   "pygments_lexer": "ipython3",
   "version": "3.12.2"
  }
 },
 "nbformat": 4,
 "nbformat_minor": 5
}
