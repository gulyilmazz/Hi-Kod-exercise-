{
 "cells": [
  {
   "cell_type": "markdown",
   "id": "cac4f09a",
   "metadata": {},
   "source": [
    "# Tuple\n",
    "Bir Tuple (Demet) tanımlamak için parantez işareti kullanılır."
   ]
  },
  {
   "cell_type": "code",
   "execution_count": 1,
   "id": "a36709bc",
   "metadata": {},
   "outputs": [
    {
     "data": {
      "text/plain": [
       "('Merhaba', 5, 6.7)"
      ]
     },
     "execution_count": 1,
     "metadata": {},
     "output_type": "execute_result"
    }
   ],
   "source": [
    "t=(\"Merhaba\",5,6.7)\n",
    "t"
   ]
  },
  {
   "cell_type": "code",
   "execution_count": 2,
   "id": "077b5e23",
   "metadata": {},
   "outputs": [
    {
     "data": {
      "text/plain": [
       "tuple"
      ]
     },
     "execution_count": 2,
     "metadata": {},
     "output_type": "execute_result"
    }
   ],
   "source": [
    "type(t)"
   ]
  },
  {
   "cell_type": "code",
   "execution_count": 3,
   "id": "b57ba84d",
   "metadata": {},
   "outputs": [
    {
     "data": {
      "text/plain": [
       "('Veri', 'Bilimi', 8)"
      ]
     },
     "execution_count": 3,
     "metadata": {},
     "output_type": "execute_result"
    }
   ],
   "source": [
    "t2 = \"Veri\",\"Bilimi\",8\n",
    "t2"
   ]
  },
  {
   "cell_type": "code",
   "execution_count": 4,
   "id": "923a6c3e",
   "metadata": {},
   "outputs": [
    {
     "data": {
      "text/plain": [
       "tuple"
      ]
     },
     "execution_count": 4,
     "metadata": {},
     "output_type": "execute_result"
    }
   ],
   "source": [
    "type(t2)"
   ]
  },
  {
   "cell_type": "code",
   "execution_count": 5,
   "id": "df7b19b3",
   "metadata": {},
   "outputs": [
    {
     "name": "stdout",
     "output_type": "stream",
     "text": [
      "('armut', 'muz', 'ayva', 'portakal', 'armut', 'mandalina')\n"
     ]
    }
   ],
   "source": [
    "meyveler = (\"armut\",\"muz\",\"ayva\",\"portakal\",\"armut\",\"mandalina\")\n",
    "print(meyveler)"
   ]
  },
  {
   "cell_type": "code",
   "execution_count": 6,
   "id": "437b3301",
   "metadata": {},
   "outputs": [
    {
     "data": {
      "text/plain": [
       "'muz'"
      ]
     },
     "execution_count": 6,
     "metadata": {},
     "output_type": "execute_result"
    }
   ],
   "source": [
    "meyveler[1]"
   ]
  },
  {
   "cell_type": "code",
   "execution_count": 7,
   "id": "2e58dd6f",
   "metadata": {},
   "outputs": [
    {
     "data": {
      "text/plain": [
       "'mandalina'"
      ]
     },
     "execution_count": 7,
     "metadata": {},
     "output_type": "execute_result"
    }
   ],
   "source": [
    "meyveler[-1]"
   ]
  },
  {
   "cell_type": "code",
   "execution_count": 8,
   "id": "3762105d",
   "metadata": {},
   "outputs": [
    {
     "data": {
      "text/plain": [
       "('armut', 'muz', 'ayva')"
      ]
     },
     "execution_count": 8,
     "metadata": {},
     "output_type": "execute_result"
    }
   ],
   "source": [
    "meyveler[:3]"
   ]
  },
  {
   "cell_type": "code",
   "execution_count": 9,
   "id": "8794ea42",
   "metadata": {},
   "outputs": [
    {
     "data": {
      "text/plain": [
       "('portakal', 'armut', 'mandalina')"
      ]
     },
     "execution_count": 9,
     "metadata": {},
     "output_type": "execute_result"
    }
   ],
   "source": [
    "meyveler[3:]"
   ]
  },
  {
   "cell_type": "code",
   "execution_count": 10,
   "id": "516cebca",
   "metadata": {},
   "outputs": [
    {
     "data": {
      "text/plain": [
       "('ayva', 'portakal', 'armut')"
      ]
     },
     "execution_count": 10,
     "metadata": {},
     "output_type": "execute_result"
    }
   ],
   "source": [
    "meyveler[2:5]"
   ]
  },
  {
   "cell_type": "code",
   "execution_count": 11,
   "id": "6305efc1",
   "metadata": {},
   "outputs": [
    {
     "data": {
      "text/plain": [
       "('ayva', 'portakal', 'armut')"
      ]
     },
     "execution_count": 11,
     "metadata": {},
     "output_type": "execute_result"
    }
   ],
   "source": [
    "meyveler[-4:-1]"
   ]
  },
  {
   "cell_type": "code",
   "execution_count": 12,
   "id": "a487f73c",
   "metadata": {},
   "outputs": [
    {
     "data": {
      "text/plain": [
       "('armut', 'muz', 'ayva', 'portakal', 'armut', 'mandalina')"
      ]
     },
     "execution_count": 12,
     "metadata": {},
     "output_type": "execute_result"
    }
   ],
   "source": [
    "meyveler"
   ]
  },
  {
   "cell_type": "code",
   "execution_count": 13,
   "id": "543f5a0b",
   "metadata": {},
   "outputs": [
    {
     "ename": "TypeError",
     "evalue": "'tuple' object does not support item assignment",
     "output_type": "error",
     "traceback": [
      "\u001b[1;31m---------------------------------------------------------------------------\u001b[0m",
      "\u001b[1;31mTypeError\u001b[0m                                 Traceback (most recent call last)",
      "Input \u001b[1;32mIn [13]\u001b[0m, in \u001b[0;36m<cell line: 2>\u001b[1;34m()\u001b[0m\n\u001b[0;32m      1\u001b[0m \u001b[38;5;66;03m#Tuple'lar bir kez oluşturulduktan sonra değerleri değiştirilemez,silinemez ya da yeni değer eklenemez.\u001b[39;00m\n\u001b[1;32m----> 2\u001b[0m meyveler[\u001b[38;5;241m1\u001b[39m] \u001b[38;5;241m=\u001b[39m \u001b[38;5;124m\"\u001b[39m\u001b[38;5;124melma\u001b[39m\u001b[38;5;124m\"\u001b[39m\n\u001b[0;32m      3\u001b[0m meyveler\n",
      "\u001b[1;31mTypeError\u001b[0m: 'tuple' object does not support item assignment"
     ]
    }
   ],
   "source": [
    "#Tuple'lar bir kez oluşturulduktan sonra değerleri değiştirilemez,silinemez ya da yeni değer eklenemez.\n",
    "meyveler[1] = \"elma\"\n",
    "meyveler"
   ]
  },
  {
   "cell_type": "code",
   "execution_count": 1,
   "id": "2d7678c0",
   "metadata": {},
   "outputs": [
    {
     "data": {
      "text/plain": [
       "('armut', 'muz', 'ayva', 'portakal', 'armut', 'mandalina', 'elma')"
      ]
     },
     "execution_count": 1,
     "metadata": {},
     "output_type": "execute_result"
    }
   ],
   "source": [
    "#Tuple'lara yeni öğe eklemek için eklenecek öğede tuple olabilir.\n",
    "meyveler = (\"armut\",\"muz\",\"ayva\",\"portakal\",\"armut\",\"mandalina\")\n",
    "meyve = (\"elma\",) #tek öğeli tuple oluştururken öğeden sonra virgül koyulmalıdır. Diğer türlü o öğe tuple olmaz\n",
    "meyveler += meyve\n",
    "meyveler"
   ]
  },
  {
   "cell_type": "code",
   "execution_count": 2,
   "id": "63755aaa",
   "metadata": {},
   "outputs": [
    {
     "name": "stdout",
     "output_type": "stream",
     "text": [
      "<class 'str'>\n",
      "<class 'tuple'>\n"
     ]
    }
   ],
   "source": [
    "meyve1 = (\"elma\")\n",
    "meyve2 = (\"elma\",)\n",
    "print(type(meyve1))\n",
    "print(type(meyve2))"
   ]
  },
  {
   "cell_type": "code",
   "execution_count": 3,
   "id": "02537712",
   "metadata": {},
   "outputs": [
    {
     "name": "stdout",
     "output_type": "stream",
     "text": [
      "armut\n",
      "muz\n",
      "ayva\n",
      "portakal\n",
      "armut\n",
      "mandalina\n"
     ]
    }
   ],
   "source": [
    "### Tüm meyveleri döngü ile yazdıralım.\n",
    "meyveler = (\"armut\",\"muz\",\"ayva\",\"portakal\",\"armut\",\"mandalina\")\n",
    "\n",
    "for i in meyveler:\n",
    "    print(i)"
   ]
  },
  {
   "cell_type": "code",
   "execution_count": 4,
   "id": "247565ff",
   "metadata": {},
   "outputs": [
    {
     "name": "stdout",
     "output_type": "stream",
     "text": [
      "armut\n",
      "muz\n",
      "ayva\n",
      "portakal\n",
      "armut\n",
      "mandalina\n"
     ]
    }
   ],
   "source": [
    "###BİRLİKTE YAPALIM!!!\n",
    "###indexleri kullanarak for döngüsüyle meyveleri yazdıralım.\n",
    "meyveler = (\"armut\",\"muz\",\"ayva\",\"portakal\",\"armut\",\"mandalina\")\n",
    "\n",
    "for i in range(len(meyveler)):\n",
    "    print(meyveler[i])"
   ]
  },
  {
   "cell_type": "code",
   "execution_count": 5,
   "id": "1c3c9cea",
   "metadata": {},
   "outputs": [
    {
     "name": "stdout",
     "output_type": "stream",
     "text": [
      "armut\n",
      "muz\n",
      "ayva\n",
      "portakal\n",
      "armut\n",
      "mandalina\n"
     ]
    }
   ],
   "source": [
    "###BİRLİKTE YAPALIM!!!\n",
    "###indexleri kullanarak while döngüsüyle meyveleri yazdıralım.\n",
    "meyveler = (\"armut\",\"muz\",\"ayva\",\"portakal\",\"armut\",\"mandalina\")\n",
    "i = 0\n",
    "\n",
    "while i < len(meyveler):\n",
    "    print(meyveler[i])\n",
    "    i = i+1"
   ]
  },
  {
   "cell_type": "markdown",
   "id": "cf79e6d3",
   "metadata": {},
   "source": [
    "# Sets\n",
    "\n",
    "Python'daki veri tiplerinden biri de Sets(Kümeler)'dir. Matematikte bulunan kümelerdeki özellikler; kesişim,birleşim, fark gibi Python'daki kümelerde de bulunur."
   ]
  },
  {
   "cell_type": "code",
   "execution_count": 6,
   "id": "14e0bbbe",
   "metadata": {},
   "outputs": [],
   "source": [
    "kume = set()"
   ]
  },
  {
   "cell_type": "code",
   "execution_count": 7,
   "id": "4bbc0bb6",
   "metadata": {},
   "outputs": [
    {
     "data": {
      "text/plain": [
       "set"
      ]
     },
     "execution_count": 7,
     "metadata": {},
     "output_type": "execute_result"
    }
   ],
   "source": [
    "type(kume)"
   ]
  },
  {
   "cell_type": "code",
   "execution_count": 8,
   "id": "41c34990",
   "metadata": {},
   "outputs": [
    {
     "data": {
      "text/plain": [
       "{'Atolye', 'Python', 'Veri Bilimi'}"
      ]
     },
     "execution_count": 8,
     "metadata": {},
     "output_type": "execute_result"
    }
   ],
   "source": [
    "#kümeler sıralanamazlar.\n",
    "kume = {\"Python\", \"Veri Bilimi\", \"Atolye\"}\n",
    "kume"
   ]
  },
  {
   "cell_type": "code",
   "execution_count": 9,
   "id": "90c56d48",
   "metadata": {},
   "outputs": [
    {
     "data": {
      "text/plain": [
       "{9, 'ayva', 'elma'}"
      ]
     },
     "execution_count": 9,
     "metadata": {},
     "output_type": "execute_result"
    }
   ],
   "source": [
    "meyveler = set([\"elma\",\"ayva\",9])\n",
    "meyveler"
   ]
  },
  {
   "cell_type": "code",
   "execution_count": 10,
   "id": "50ce4f00",
   "metadata": {},
   "outputs": [
    {
     "data": {
      "text/plain": [
       "{' ', 'A', 'B', 'V', 'e', 'i', 'l', 'm', 'r', 's', 't', 'y', 'ö'}"
      ]
     },
     "execution_count": 10,
     "metadata": {},
     "output_type": "execute_result"
    }
   ],
   "source": [
    "atolye = \"Veri Bilimi Atölyesi\"\n",
    "set(atolye)"
   ]
  },
  {
   "cell_type": "code",
   "execution_count": 11,
   "id": "1423223d",
   "metadata": {},
   "outputs": [
    {
     "data": {
      "text/plain": [
       "{6, 8.5, 'Merhaba', 'Python', True}"
      ]
     },
     "execution_count": 11,
     "metadata": {},
     "output_type": "execute_result"
    }
   ],
   "source": [
    "# kümeler öğeleri birden fazla kez tekrar etmez.\n",
    "kume2 = {\"Python\",\"Merhaba\",6,8.5,\"Merhaba\",True}\n",
    "kume2"
   ]
  },
  {
   "cell_type": "code",
   "execution_count": 12,
   "id": "0d4ac3ad",
   "metadata": {},
   "outputs": [
    {
     "ename": "TypeError",
     "evalue": "'set' object is not subscriptable",
     "output_type": "error",
     "traceback": [
      "\u001b[1;31m---------------------------------------------------------------------------\u001b[0m",
      "\u001b[1;31mTypeError\u001b[0m                                 Traceback (most recent call last)",
      "Input \u001b[1;32mIn [12]\u001b[0m, in \u001b[0;36m<cell line: 2>\u001b[1;34m()\u001b[0m\n\u001b[0;32m      1\u001b[0m \u001b[38;5;66;03m#kümeler indexlenemez\u001b[39;00m\n\u001b[1;32m----> 2\u001b[0m \u001b[43mkume2\u001b[49m\u001b[43m[\u001b[49m\u001b[38;5;241;43m1\u001b[39;49m\u001b[43m]\u001b[49m\n",
      "\u001b[1;31mTypeError\u001b[0m: 'set' object is not subscriptable"
     ]
    }
   ],
   "source": [
    "#kümeler indexlenemez\n",
    "kume2[1]"
   ]
  },
  {
   "cell_type": "code",
   "execution_count": null,
   "id": "af2ba64e",
   "metadata": {},
   "outputs": [],
   "source": [
    "#kümeler oluşturulduktan sonra öğeleri değiştirilemez ancak yeni öğeler eklenebilir.\n",
    "kume = {\"Merhaba\", 9, True}\n",
    "kume.add(\"Python\")\n",
    "kume"
   ]
  },
  {
   "cell_type": "code",
   "execution_count": null,
   "id": "ce1ad27a",
   "metadata": {},
   "outputs": [],
   "source": [
    "kume.add(\"Merhaba\")\n",
    "kume"
   ]
  },
  {
   "cell_type": "code",
   "execution_count": 13,
   "id": "59caf52e",
   "metadata": {},
   "outputs": [
    {
     "data": {
      "text/plain": [
       "{True, 4.7}"
      ]
     },
     "execution_count": 13,
     "metadata": {},
     "output_type": "execute_result"
    }
   ],
   "source": [
    "#difference metodu iki kümenin farkını almak için kullanılır.\n",
    "k1={3,8,6.7,\"Merhaba\"}\n",
    "k2={\"Merhaba\",8,True,4.7}\n",
    "k2.difference(k1)"
   ]
  },
  {
   "cell_type": "code",
   "execution_count": 14,
   "id": "629f7a4d",
   "metadata": {},
   "outputs": [
    {
     "data": {
      "text/plain": [
       "{3, 6.7}"
      ]
     },
     "execution_count": 14,
     "metadata": {},
     "output_type": "execute_result"
    }
   ],
   "source": [
    "k1.difference(k2)"
   ]
  },
  {
   "cell_type": "code",
   "execution_count": 15,
   "id": "9cf9b46e",
   "metadata": {},
   "outputs": [
    {
     "data": {
      "text/plain": [
       "{3, 6.7}"
      ]
     },
     "execution_count": 15,
     "metadata": {},
     "output_type": "execute_result"
    }
   ],
   "source": [
    "# - işareti kullanılarakta fark alınabilir.\n",
    "k1-k2"
   ]
  },
  {
   "cell_type": "code",
   "execution_count": 16,
   "id": "c6999abb",
   "metadata": {},
   "outputs": [
    {
     "data": {
      "text/plain": [
       "{6, 8.5, 'Merhaba', 'Python', True}"
      ]
     },
     "execution_count": 16,
     "metadata": {},
     "output_type": "execute_result"
    }
   ],
   "source": [
    "#discard metodu, kümeden öğe silmemizi sağlar.\n",
    "kume2"
   ]
  },
  {
   "cell_type": "code",
   "execution_count": 17,
   "id": "63519df4",
   "metadata": {},
   "outputs": [],
   "source": [
    "kume2.discard(\"Python\")"
   ]
  },
  {
   "cell_type": "code",
   "execution_count": 18,
   "id": "b13a7ed0",
   "metadata": {},
   "outputs": [
    {
     "data": {
      "text/plain": [
       "{6, 8.5, 'Merhaba', True}"
      ]
     },
     "execution_count": 18,
     "metadata": {},
     "output_type": "execute_result"
    }
   ],
   "source": [
    "kume2"
   ]
  },
  {
   "cell_type": "code",
   "execution_count": 19,
   "id": "fef06364",
   "metadata": {},
   "outputs": [
    {
     "data": {
      "text/plain": [
       "{6, 8.5, 'Merhaba'}"
      ]
     },
     "execution_count": 19,
     "metadata": {},
     "output_type": "execute_result"
    }
   ],
   "source": [
    "#remove metodu, kümeden öğe silmeyi sağlar. Discard'dan farkı, kümede olmayan bir öğeyi silmek istendiğinde discord metodu hata vermezken remove metodu hata verir.\n",
    "kume2.remove(True)\n",
    "kume2"
   ]
  },
  {
   "cell_type": "code",
   "execution_count": 20,
   "id": "d50c07cc",
   "metadata": {},
   "outputs": [
    {
     "name": "stdout",
     "output_type": "stream",
     "text": [
      "{8, 'Merhaba', 3, 6.7}\n",
      "{8, 'Merhaba', 4.7, True}\n"
     ]
    }
   ],
   "source": [
    "#intersection,iki kümedeki kesişimi ifade eder.(& işaretide kullanılabilir.)\n",
    "print(k1)\n",
    "print(k2)"
   ]
  },
  {
   "cell_type": "code",
   "execution_count": 21,
   "id": "16ab7ad8",
   "metadata": {},
   "outputs": [
    {
     "data": {
      "text/plain": [
       "{8, 'Merhaba'}"
      ]
     },
     "execution_count": 21,
     "metadata": {},
     "output_type": "execute_result"
    }
   ],
   "source": [
    "k1.intersection(k2)"
   ]
  },
  {
   "cell_type": "code",
   "execution_count": 22,
   "id": "70832050",
   "metadata": {},
   "outputs": [
    {
     "data": {
      "text/plain": [
       "{3, 4.7, 6.7, 8, 'Merhaba', True}"
      ]
     },
     "execution_count": 22,
     "metadata": {},
     "output_type": "execute_result"
    }
   ],
   "source": [
    "#union, iki kümenin birleşimini alır.(| işaretide kullanılabilir.)\n",
    "k1.union(k2)"
   ]
  },
  {
   "cell_type": "markdown",
   "id": "5a60bba9",
   "metadata": {},
   "source": [
    "# Dictionary\n",
    "Sözlükler; anahtar ve değer çiftlerinin birbirleriyle eşleştirildiği bir veri tipidir.\n",
    "\n",
    "{key(anahtar) : value(değer)}"
   ]
  },
  {
   "cell_type": "code",
   "execution_count": 23,
   "id": "2ab3df39",
   "metadata": {},
   "outputs": [
    {
     "data": {
      "text/plain": [
       "{'book': 'kitap'}"
      ]
     },
     "execution_count": 23,
     "metadata": {},
     "output_type": "execute_result"
    }
   ],
   "source": [
    "sozluk = {\"book\":\"kitap\"}\n",
    "sozluk"
   ]
  },
  {
   "cell_type": "code",
   "execution_count": 24,
   "id": "077f0014",
   "metadata": {},
   "outputs": [
    {
     "data": {
      "text/plain": [
       "1"
      ]
     },
     "execution_count": 24,
     "metadata": {},
     "output_type": "execute_result"
    }
   ],
   "source": [
    "### sözlüğün uzunluğuna bakalım.\n",
    "len(sozluk)"
   ]
  },
  {
   "cell_type": "code",
   "execution_count": 25,
   "id": "b4fb5d02",
   "metadata": {},
   "outputs": [
    {
     "data": {
      "text/plain": [
       "{'book': 'kitap', 'pencil': 'kalem', 'table': 'masa'}"
      ]
     },
     "execution_count": 25,
     "metadata": {},
     "output_type": "execute_result"
    }
   ],
   "source": [
    "sozluk = {\"book\":\"kitap\",\"pencil\":\"kalem\",\"table\":\"masa\"}\n",
    "sozluk"
   ]
  },
  {
   "cell_type": "code",
   "execution_count": 26,
   "id": "c20fa10b",
   "metadata": {},
   "outputs": [
    {
     "data": {
      "text/plain": [
       "3"
      ]
     },
     "execution_count": 26,
     "metadata": {},
     "output_type": "execute_result"
    }
   ],
   "source": [
    "len(sozluk)"
   ]
  },
  {
   "cell_type": "code",
   "execution_count": 27,
   "id": "52e8465b",
   "metadata": {},
   "outputs": [
    {
     "data": {
      "text/plain": [
       "{'book': 'kitap', 'pencil': 'kalem', 'table': 'masa'}"
      ]
     },
     "execution_count": 27,
     "metadata": {},
     "output_type": "execute_result"
    }
   ],
   "source": [
    "sozluk = {\"book\":\"kitap\",\n",
    "          \"pencil\":\"kalem\",\n",
    "          \"table\":\"masa\"}\n",
    "sozluk"
   ]
  },
  {
   "cell_type": "code",
   "execution_count": 28,
   "id": "446fb3ee",
   "metadata": {},
   "outputs": [
    {
     "data": {
      "text/plain": [
       "'kalem'"
      ]
     },
     "execution_count": 28,
     "metadata": {},
     "output_type": "execute_result"
    }
   ],
   "source": [
    "#sözlükteki öğelere erişmek\n",
    "sozluk[\"pencil\"]"
   ]
  },
  {
   "cell_type": "code",
   "execution_count": 29,
   "id": "52edbb94",
   "metadata": {},
   "outputs": [
    {
     "name": "stdout",
     "output_type": "stream",
     "text": [
      "kitap\n",
      "kalem\n",
      "masa\n"
     ]
    }
   ],
   "source": [
    "print(sozluk[\"book\"])\n",
    "print(sozluk[\"pencil\"])\n",
    "print(sozluk[\"table\"])"
   ]
  },
  {
   "cell_type": "code",
   "execution_count": 30,
   "id": "71c32d2d",
   "metadata": {},
   "outputs": [
    {
     "name": "stdout",
     "output_type": "stream",
     "text": [
      "kitap\n",
      "kalem\n",
      "masa\n"
     ]
    }
   ],
   "source": [
    "###aynı değerleri for döngüsü ile yazdıralım\n",
    "\n",
    "for kelime in sozluk:\n",
    "    print(sozluk[kelime])"
   ]
  },
  {
   "cell_type": "code",
   "execution_count": 31,
   "id": "feab06ee",
   "metadata": {},
   "outputs": [
    {
     "name": "stdout",
     "output_type": "stream",
     "text": [
      "Müşteri numarasını öğrenmek istediğiniz kişinin ismini giriniz: ayşe yılmaz\n",
      "ayşe yılmaz isimli kişinin müşteri numarası: 479621\n",
      "ayşe yılmaz isimli kişinin müşteri numarası :479621\n"
     ]
    }
   ],
   "source": [
    "###BERABER YAPALIM!!\n",
    "###Kullanıcıdan aldığımız isim bilgisine göre müşteri numarasını yazdıralım.\n",
    "\n",
    "musteri_bilgileri = {\"ayşe yılmaz\":\"479621\",\n",
    "                    \"mine sönmez\":\"851743\",\n",
    "                    \"emir alpay\":\"743266\",\n",
    "                    \"sevim kara\":\"154798\"}\n",
    "\n",
    "isim = input(\"Müşteri numarasını öğrenmek istediğiniz kişinin ismini giriniz: \")\n",
    "\n",
    "print(\"{} isimli kişinin müşteri numarası: {}\".format(isim,musteri_bilgileri[isim]))\n",
    "print(isim + \" isimli kişinin müşteri numarası :\" + musteri_bilgileri[isim])"
   ]
  },
  {
   "cell_type": "code",
   "execution_count": 32,
   "id": "ab8b9c81",
   "metadata": {},
   "outputs": [
    {
     "name": "stdout",
     "output_type": "stream",
     "text": [
      "Müşteri numarasını öğrenmek istediğiniz kişinin ismini giriniz: sevim kara\n",
      "sevim kara isimli kişinin müşteri numarası: 154798\n"
     ]
    }
   ],
   "source": [
    "### BİRLİKTE YAPALIM\n",
    "### bu duruma bir koşul ekleyelim. Girilen isim sözlükte yoksa bizi uyarsın!!!\n",
    "musteri_bilgileri = {\"ayşe yılmaz\":\"479621\",\n",
    "                    \"mine sönmez\":\"851743\",\n",
    "                    \"emir alpay\":\"743266\",\n",
    "                    \"sevim kara\":\"154798\"}\n",
    "\n",
    "isim = input(\"Müşteri numarasını öğrenmek istediğiniz kişinin ismini giriniz: \")\n",
    "\n",
    "if isim in musteri_bilgileri:\n",
    "    print(\"{} isimli kişinin müşteri numarası: {}\".format(isim,musteri_bilgileri[isim]))\n",
    "else:\n",
    "    print(\"Girilen isimde bir müşteri bulunmamamktadır!\")"
   ]
  },
  {
   "cell_type": "code",
   "execution_count": 33,
   "id": "ee580920",
   "metadata": {},
   "outputs": [
    {
     "data": {
      "text/plain": [
       "34"
      ]
     },
     "execution_count": 33,
     "metadata": {},
     "output_type": "execute_result"
    }
   ],
   "source": [
    "plaka = {\"İstanbul\":34,\n",
    "        \"Isparta\":32,\n",
    "        \"İzmir\":35}\n",
    "\n",
    "plaka[\"İstanbul\"]"
   ]
  },
  {
   "cell_type": "code",
   "execution_count": 34,
   "id": "55bf1f25",
   "metadata": {},
   "outputs": [
    {
     "data": {
      "text/plain": [
       "['479621', 'İstanbul', 'Öğretmen']"
      ]
     },
     "execution_count": 34,
     "metadata": {},
     "output_type": "execute_result"
    }
   ],
   "source": [
    "musteri_bilgileri = {\"ayşe yılmaz\":[\"479621\",\"İstanbul\",\"Öğretmen\"],\n",
    "                    \"mine sönmez\":[\"851743\",\"Ankara\",\"Hemşire\"],\n",
    "                    \"emir alpay\":[\"743266\",\"Bursa\",\"Mühendis\"],\n",
    "                    \"sevim kara\":[\"154798\",\"İzmir\",\"Öğrenci\"]}\n",
    "\n",
    "musteri_bilgileri[\"ayşe yılmaz\"]"
   ]
  },
  {
   "cell_type": "code",
   "execution_count": 35,
   "id": "a168629e",
   "metadata": {},
   "outputs": [
    {
     "name": "stdout",
     "output_type": "stream",
     "text": [
      "Müşterinin ismini giriniz: mine sönmez\n",
      "Müşteri numarası: 851743\n",
      "Yaşadığı şehir: Ankara\n",
      "Yaşı: 24\n",
      "Meslek: Hemşire\n"
     ]
    }
   ],
   "source": [
    "###Müşterinin ismini alalım ve bilgilerini yazdıralım.\n",
    "musteri_bilgileri = {\"ayşe yılmaz\":[\"479621\",\"İstanbul\",36,\"Öğretmen\"],\n",
    "                    \"mine sönmez\":[\"851743\",\"Ankara\",24,\"Hemşire\"],\n",
    "                    \"emir alpay\":[\"743266\",\"Bursa\",27,\"Mühendis\"],\n",
    "                    \"sevim kara\":[\"154798\",\"İzmir\",21,\"Öğrenci\"]}\n",
    "\n",
    "isim = input(\"Müşterinin ismini giriniz: \")\n",
    "\n",
    "print(\"Müşteri numarası: \" + musteri_bilgileri[isim][0])\n",
    "print(\"Yaşadığı şehir: \" + musteri_bilgileri[isim][1])\n",
    "print(\"Yaşı: \" + str(musteri_bilgileri[isim][2]))\n",
    "print(\"Meslek: \" + musteri_bilgileri[isim][3])"
   ]
  },
  {
   "cell_type": "code",
   "execution_count": 36,
   "id": "ea032e78",
   "metadata": {},
   "outputs": [
    {
     "name": "stdout",
     "output_type": "stream",
     "text": [
      "Müşterinin ismini giriniz: emir alpay\n",
      "{'Müşteri numarası': '743266', 'Şehir': 'Bursa', 'Yaş': 27, 'Meslek': 'Mühendis'}\n"
     ]
    }
   ],
   "source": [
    "musteri_bilgileri = {\"ayşe yılmaz\":{\"Müşteri numarası\":\"479621\",\n",
    "                                    \"Şehir\":\"İstanbul\",\n",
    "                                    \"Yaş\":36,\n",
    "                                    \"Meslek\":\"Öğretmen\"},\n",
    "                     \n",
    "                    \"mine sönmez\":{\"Müşteri numarası\":\"851743\",\n",
    "                                   \"Şehir\":\"Ankara\",\n",
    "                                   \"Yaş\":24,\n",
    "                                   \"Meslek\":\"Hemşire\"},\n",
    "                     \n",
    "                    \"emir alpay\":{\"Müşteri numarası\":\"743266\",\n",
    "                                  \"Şehir\":\"Bursa\",\n",
    "                                  \"Yaş\":27,\n",
    "                                  \"Meslek\":\"Mühendis\"},\n",
    "                     \n",
    "                    \"sevim kara\":{\"Müşteri numarası\":\"154798\",\n",
    "                                  \"Şehir\":\"İzmir\",\n",
    "                                  \"Yaş\":21,\n",
    "                                  \"Meslek\":\"Öğrenci\"}}\n",
    "\n",
    "isim = input(\"Müşterinin ismini giriniz: \")\n",
    "\n",
    "print(musteri_bilgileri[isim])"
   ]
  },
  {
   "cell_type": "code",
   "execution_count": 37,
   "id": "9671c796",
   "metadata": {},
   "outputs": [
    {
     "data": {
      "text/plain": [
       "24"
      ]
     },
     "execution_count": 37,
     "metadata": {},
     "output_type": "execute_result"
    }
   ],
   "source": [
    "musteri_bilgileri[\"mine sönmez\"][\"Yaş\"]"
   ]
  },
  {
   "cell_type": "code",
   "execution_count": 38,
   "id": "28defca4",
   "metadata": {},
   "outputs": [
    {
     "name": "stdout",
     "output_type": "stream",
     "text": [
      "Müşterinin ismini giriniz: sevim kara\n",
      "Kişi hakkında öğrenmek istediğiniz bilgi: Yaş\n",
      "21\n"
     ]
    }
   ],
   "source": [
    "###İsim ve müsteri hakkında istenilen bilgiyi kullanıcıdan alalım.\n",
    "musteri_bilgileri = {\"ayşe yılmaz\":{\"Müşteri numarası\":\"479621\",\n",
    "                                    \"Şehir\":\"İstanbul\",\n",
    "                                    \"Yaş\":36,\n",
    "                                    \"Meslek\":\"Öğretmen\"},\n",
    "                     \n",
    "                    \"mine sönmez\":{\"Müşteri numarası\":\"851743\",\n",
    "                                   \"Şehir\":\"Ankara\",\n",
    "                                   \"Yaş\":24,\n",
    "                                   \"Meslek\":\"Hemşire\"},\n",
    "                     \n",
    "                    \"emir alpay\":{\"Müşteri numarası\":\"743266\",\n",
    "                                  \"Şehir\":\"Bursa\",\n",
    "                                  \"Yaş\":27,\n",
    "                                  \"Meslek\":\"Mühendis\"},\n",
    "                     \n",
    "                    \"sevim kara\":{\"Müşteri numarası\":\"154798\",\n",
    "                                  \"Şehir\":\"İzmir\",\n",
    "                                  \"Yaş\":21,\n",
    "                                  \"Meslek\":\"Öğrenci\"}}\n",
    "\n",
    "isim = input(\"Müşterinin ismini giriniz: \")\n",
    "\n",
    "bilgi = input(\"Kişi hakkında öğrenmek istediğiniz bilgi: \")\n",
    "\n",
    "print(musteri_bilgileri[isim][bilgi])"
   ]
  },
  {
   "cell_type": "markdown",
   "id": "e7c23d40",
   "metadata": {},
   "source": [
    "Sözlüklerde oluşturulan öğeler kod satırı çalıştırıldığında aynı sırada bize dönmeyebilir. Bu nedenle listelerde yapılan indexleme gibi özellikler sözlüklerde kullanılamaz."
   ]
  },
  {
   "cell_type": "code",
   "execution_count": 40,
   "id": "dd504fdf",
   "metadata": {},
   "outputs": [
    {
     "ename": "KeyError",
     "evalue": "0",
     "output_type": "error",
     "traceback": [
      "\u001b[1;31m---------------------------------------------------------------------------\u001b[0m",
      "\u001b[1;31mKeyError\u001b[0m                                  Traceback (most recent call last)",
      "Input \u001b[1;32mIn [40]\u001b[0m, in \u001b[0;36m<cell line: 1>\u001b[1;34m()\u001b[0m\n\u001b[1;32m----> 1\u001b[0m \u001b[43mmusteri_bilgileri\u001b[49m\u001b[43m[\u001b[49m\u001b[38;5;241;43m0\u001b[39;49m\u001b[43m]\u001b[49m\n",
      "\u001b[1;31mKeyError\u001b[0m: 0"
     ]
    }
   ],
   "source": [
    "musteri_bilgileri[0]"
   ]
  },
  {
   "cell_type": "code",
   "execution_count": 41,
   "id": "85c1324e",
   "metadata": {},
   "outputs": [
    {
     "data": {
      "text/plain": [
       "{'book': 'kitap', 'pencil': 'kalem', 'table': 'masa', 'glass': 'bardak'}"
      ]
     },
     "execution_count": 41,
     "metadata": {},
     "output_type": "execute_result"
    }
   ],
   "source": [
    "#sözlüklere öğe eklemek\n",
    "sozluk[\"glass\"]=\"bardak\"\n",
    "sozluk"
   ]
  },
  {
   "cell_type": "code",
   "execution_count": 42,
   "id": "6bb543e7",
   "metadata": {},
   "outputs": [],
   "source": [
    "sozluk[\"fork\"] = \"çatal\""
   ]
  },
  {
   "cell_type": "code",
   "execution_count": 43,
   "id": "2eed9dc5",
   "metadata": {},
   "outputs": [
    {
     "data": {
      "text/plain": [
       "{'book': 'kitap',\n",
       " 'pencil': 'kalem',\n",
       " 'table': 'masa',\n",
       " 'glass': 'bardak',\n",
       " 'fork': 'çatal'}"
      ]
     },
     "execution_count": 43,
     "metadata": {},
     "output_type": "execute_result"
    }
   ],
   "source": [
    "sozluk"
   ]
  },
  {
   "cell_type": "code",
   "execution_count": 44,
   "id": "79e3b52f",
   "metadata": {},
   "outputs": [
    {
     "data": {
      "text/plain": [
       "{'İstanbul': 34, 'Isparta': 32, 'İzmir': 35, 'Burdur': 15}"
      ]
     },
     "execution_count": 44,
     "metadata": {},
     "output_type": "execute_result"
    }
   ],
   "source": [
    "plaka[\"Burdur\"]=15\n",
    "plaka"
   ]
  },
  {
   "cell_type": "code",
   "execution_count": 45,
   "id": "4d33c44b",
   "metadata": {},
   "outputs": [],
   "source": [
    "plaka[\"Denizli\"]=20"
   ]
  },
  {
   "cell_type": "code",
   "execution_count": 46,
   "id": "ec5c235d",
   "metadata": {},
   "outputs": [
    {
     "data": {
      "text/plain": [
       "{'İstanbul': 34, 'Isparta': 32, 'İzmir': 35, 'Burdur': 15, 'Denizli': 20}"
      ]
     },
     "execution_count": 46,
     "metadata": {},
     "output_type": "execute_result"
    }
   ],
   "source": [
    "plaka"
   ]
  },
  {
   "cell_type": "markdown",
   "id": "0a785473",
   "metadata": {},
   "source": [
    "Sözlükler değer olarak her veri tipini kabul ederken, anahtarlar(key) immutable(değiştirilemeyen) veri tiplerini kabul eder.\n",
    "Değiştirilemeyen veri tipleri:\n",
    "- int\n",
    "- string\n",
    "- tuple"
   ]
  },
  {
   "cell_type": "code",
   "execution_count": 47,
   "id": "f3f937f3",
   "metadata": {},
   "outputs": [],
   "source": [
    "yeni_sozluk ={}"
   ]
  },
  {
   "cell_type": "code",
   "execution_count": 48,
   "id": "5ab1fc23",
   "metadata": {},
   "outputs": [
    {
     "data": {
      "text/plain": [
       "{'isim': 'Ahmet'}"
      ]
     },
     "execution_count": 48,
     "metadata": {},
     "output_type": "execute_result"
    }
   ],
   "source": [
    "yeni_sozluk[\"isim\"]=\"Ahmet\"\n",
    "yeni_sozluk"
   ]
  },
  {
   "cell_type": "code",
   "execution_count": 49,
   "id": "1d8c6263",
   "metadata": {},
   "outputs": [
    {
     "data": {
      "text/plain": [
       "{'isim': 'Ahmet', 45: [1, 3, 5, 9, 15, 45]}"
      ]
     },
     "execution_count": 49,
     "metadata": {},
     "output_type": "execute_result"
    }
   ],
   "source": [
    "yeni_sozluk[45]=[1,3,5,9,15,45]\n",
    "yeni_sozluk"
   ]
  },
  {
   "cell_type": "code",
   "execution_count": 50,
   "id": "70cef2e1",
   "metadata": {},
   "outputs": [
    {
     "data": {
      "text/plain": [
       "{'isim': 'Ahmet', 45: [1, 3, 5, 9, 15, 45], (1, 2, 3): 'a,b,c'}"
      ]
     },
     "execution_count": 50,
     "metadata": {},
     "output_type": "execute_result"
    }
   ],
   "source": [
    "yeni_sozluk[(1,2,3)]=\"a,b,c\"\n",
    "yeni_sozluk"
   ]
  },
  {
   "cell_type": "code",
   "execution_count": 51,
   "id": "98e6ed43",
   "metadata": {},
   "outputs": [
    {
     "data": {
      "text/plain": [
       "{'ayşe yılmaz': {'Müşteri numarası': '479621',\n",
       "  'Şehir': 'İstanbul',\n",
       "  'Yaş': 36,\n",
       "  'Meslek': 'Öğretmen'},\n",
       " 'mine sönmez': {'Müşteri numarası': '851743',\n",
       "  'Şehir': 'Ankara',\n",
       "  'Yaş': 24,\n",
       "  'Meslek': 'Hemşire'},\n",
       " 'emir alpay': {'Müşteri numarası': '743266',\n",
       "  'Şehir': 'Bursa',\n",
       "  'Yaş': 27,\n",
       "  'Meslek': 'Mühendis'},\n",
       " 'sevim kara': {'Müşteri numarası': '154798',\n",
       "  'Şehir': 'İzmir',\n",
       "  'Yaş': 21,\n",
       "  'Meslek': 'Öğrenci'}}"
      ]
     },
     "execution_count": 51,
     "metadata": {},
     "output_type": "execute_result"
    }
   ],
   "source": [
    "#Sözlükteki değerleri değiştirmek\n",
    "\n",
    "musteri_bilgileri"
   ]
  },
  {
   "cell_type": "code",
   "execution_count": 52,
   "id": "a0958921",
   "metadata": {},
   "outputs": [
    {
     "data": {
      "text/plain": [
       "{'ayşe yılmaz': {'Müşteri numarası': '479621',\n",
       "  'Şehir': 'İstanbul',\n",
       "  'Yaş': 36,\n",
       "  'Meslek': 'Öğretmen'},\n",
       " 'mine sönmez': {'Müşteri numarası': '851743',\n",
       "  'Şehir': 'Ankara',\n",
       "  'Yaş': 24,\n",
       "  'Meslek': 'Hemşire'},\n",
       " 'emir alpay': {'Müşteri numarası': '743266',\n",
       "  'Şehir': 'Bursa',\n",
       "  'Yaş': 45,\n",
       "  'Meslek': 'Mühendis'},\n",
       " 'sevim kara': {'Müşteri numarası': '154798',\n",
       "  'Şehir': 'İzmir',\n",
       "  'Yaş': 21,\n",
       "  'Meslek': 'Öğrenci'}}"
      ]
     },
     "execution_count": 52,
     "metadata": {},
     "output_type": "execute_result"
    }
   ],
   "source": [
    "musteri_bilgileri[\"emir alpay\"][\"Yaş\"] = 45\n",
    "musteri_bilgileri"
   ]
  },
  {
   "cell_type": "code",
   "execution_count": 53,
   "id": "406e1db1",
   "metadata": {},
   "outputs": [
    {
     "data": {
      "text/plain": [
       "{'book': 'kitap',\n",
       " 'pencil': 'kalem',\n",
       " 'table': 'masa',\n",
       " 'glass': 'bardak',\n",
       " 'fork': 'çatal'}"
      ]
     },
     "execution_count": 53,
     "metadata": {},
     "output_type": "execute_result"
    }
   ],
   "source": [
    "sozluk"
   ]
  },
  {
   "cell_type": "code",
   "execution_count": 54,
   "id": "ffd1a09e",
   "metadata": {},
   "outputs": [
    {
     "data": {
      "text/plain": [
       "dict_keys(['book', 'pencil', 'table', 'glass', 'fork'])"
      ]
     },
     "execution_count": 54,
     "metadata": {},
     "output_type": "execute_result"
    }
   ],
   "source": [
    "#keys metodunu,sözlüğün sadece anahtarlarını almak istediğimizde kullanırız\n",
    "#bu metod bize dict_keys nesnesi veriyor.\n",
    "sozluk.keys()"
   ]
  },
  {
   "cell_type": "code",
   "execution_count": 55,
   "id": "2d2fdbd3",
   "metadata": {},
   "outputs": [
    {
     "data": {
      "text/plain": [
       "['book', 'pencil', 'table', 'glass', 'fork']"
      ]
     },
     "execution_count": 55,
     "metadata": {},
     "output_type": "execute_result"
    }
   ],
   "source": [
    "#Bu nesneyi kullanmak için liste ya da tuple a dönüştürebilirz\n",
    "liste =list(sozluk.keys())\n",
    "liste"
   ]
  },
  {
   "cell_type": "code",
   "execution_count": 56,
   "id": "300ee269",
   "metadata": {},
   "outputs": [
    {
     "data": {
      "text/plain": [
       "dict_values(['kitap', 'kalem', 'masa', 'bardak', 'çatal'])"
      ]
     },
     "execution_count": 56,
     "metadata": {},
     "output_type": "execute_result"
    }
   ],
   "source": [
    "#values metodunu,sözlüğün sadece değerini almak istediğimizde kullanırız\n",
    "sozluk.values()"
   ]
  },
  {
   "cell_type": "code",
   "execution_count": 57,
   "id": "d642c596",
   "metadata": {},
   "outputs": [
    {
     "data": {
      "text/plain": [
       "['kitap', 'kalem', 'masa', 'bardak', 'çatal']"
      ]
     },
     "execution_count": 57,
     "metadata": {},
     "output_type": "execute_result"
    }
   ],
   "source": [
    "list(sozluk.values())"
   ]
  },
  {
   "cell_type": "code",
   "execution_count": 58,
   "id": "4f08da5b",
   "metadata": {},
   "outputs": [
    {
     "data": {
      "text/plain": [
       "dict_items([('book', 'kitap'), ('pencil', 'kalem'), ('table', 'masa'), ('glass', 'bardak'), ('fork', 'çatal')])"
      ]
     },
     "execution_count": 58,
     "metadata": {},
     "output_type": "execute_result"
    }
   ],
   "source": [
    "#items metodu, sözlüğün hem anahtarlarını hem de değerlerini almamızı sağlar.\n",
    "sozluk.items()"
   ]
  },
  {
   "cell_type": "code",
   "execution_count": 59,
   "id": "9bab45ba",
   "metadata": {},
   "outputs": [
    {
     "name": "stdout",
     "output_type": "stream",
     "text": [
      "book = kitap\n",
      "pencil = kalem\n",
      "table = masa\n",
      "glass = bardak\n",
      "fork = çatal\n"
     ]
    }
   ],
   "source": [
    "for key,value in sozluk.items():\n",
    "    print(\"{} = {}\".format(key,value))"
   ]
  },
  {
   "cell_type": "code",
   "execution_count": null,
   "id": "d2ce7009",
   "metadata": {},
   "outputs": [],
   "source": []
  }
 ],
 "metadata": {
  "kernelspec": {
   "display_name": "Python 3 (ipykernel)",
   "language": "python",
   "name": "python3"
  },
  "language_info": {
   "codemirror_mode": {
    "name": "ipython",
    "version": 3
   },
   "file_extension": ".py",
   "mimetype": "text/x-python",
   "name": "python",
   "nbconvert_exporter": "python",
   "pygments_lexer": "ipython3",
   "version": "3.9.12"
  }
 },
 "nbformat": 4,
 "nbformat_minor": 5
}
