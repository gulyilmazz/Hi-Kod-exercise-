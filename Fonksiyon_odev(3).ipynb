{
 "cells": [
  {
   "cell_type": "markdown",
   "metadata": {},
   "source": [
    "#### Ödev 1\n",
    "Kullanıcıdan pi değeri ve yarıçap bilgisi alarak dairenin alanını hesaplayan bir fonksiyon oluşturulur."
   ]
  },
  {
   "cell_type": "code",
   "execution_count": 1,
   "metadata": {},
   "outputs": [
    {
     "name": "stdout",
     "output_type": "stream",
     "text": [
      "Dairenin alanı: 78.5\n"
     ]
    }
   ],
   "source": [
    "def daire_alani_hesapla(pi,r):\n",
    "    alan = pi * (r**2)\n",
    "    return alan\n",
    "\n",
    "# Kullanıcıdan giriş alma\n",
    "pi_degeri = float(input(\"Lütfen pi değerini giriniz: \"))\n",
    "yaricap = float(input(\"Lütfen yarıçapı giriniz: \"))\n",
    "# Fonksiyonu çağır ve sonucu ekrana yazdır\n",
    "alan = daire_alani_hesapla(pi_degeri, yaricap)\n",
    "print(f\"Dairenin alanı: {alan}\")"
   ]
  },
  {
   "cell_type": "markdown",
   "metadata": {},
   "source": [
    "#### Ödev 2\n",
    "\n",
    "Faktöriyel adında fonksiyon oluşturulur. Döngü kullanarak parametre olarak girilen sayının faktöriyeli hesaplanır. Format metodunu kullanılarak ekrana yazdırılır."
   ]
  },
  {
   "cell_type": "code",
   "execution_count": 2,
   "metadata": {},
   "outputs": [
    {
     "name": "stdout",
     "output_type": "stream",
     "text": [
      "Girilen sayının faktöriyeli: 479001600\n"
     ]
    }
   ],
   "source": [
    "def faktoriyel(n):\n",
    "    sonuc = 1\n",
    "    for i in range(1, n + 1):\n",
    "        sonuc *= i\n",
    "    return sonuc\n",
    "\n",
    "# Kullanıcıdan giriş alma\n",
    "sayi = int(input(\"Lütfen bir sayı giriniz: \"))\n",
    "\n",
    "# Fonksiyonu çağır ve sonucu ekrana yazdır\n",
    "print(\"Girilen sayının faktöriyeli: {}\".format(faktoriyel(sayi)))"
   ]
  },
  {
   "cell_type": "markdown",
   "metadata": {},
   "source": [
    "#### Ödev 3\n",
    "Kişinin fonksiyona doğum yılını vererek kaç yaşında olduğunu hesaplayan bir fonksiyon oluşturun. "
   ]
  },
  {
   "cell_type": "code",
   "execution_count": 3,
   "metadata": {},
   "outputs": [
    {
     "name": "stdout",
     "output_type": "stream",
     "text": [
      "Yaşınız: 25\n"
     ]
    }
   ],
   "source": [
    "from datetime import datetime\n",
    "\n",
    "def yas_hesapla(dogum_yili):\n",
    "    mevcut_yil = datetime.now().year  # Güncel yılı al\n",
    "    yas = mevcut_yil - dogum_yili\n",
    "    return yas\n",
    "\n",
    "# Kullanıcıdan giriş alma\n",
    "dogum_yili = int(input(\"Lütfen doğum yılınızı giriniz: \"))\n",
    "\n",
    "# Fonksiyonu çağır ve sonucu ekrana yazdır\n",
    "print(\"Yaşınız: {}\".format(yas_hesapla(dogum_yili)))"
   ]
  },
  {
   "cell_type": "markdown",
   "metadata": {},
   "source": [
    "#### Ödev 4\n",
    "\n",
    "Doğum yılı ve isim bilgisi verilen fonksiyon kişinin emekli olup olmadığını söylesin.(Kişi 65 yaşında ise emekli olur.) Burada yaş hesabını yukarıdaki örnekteki fonksiyonu kullanarak yapsın.(Yani fonksiyon içinde fonksiyon kullanmanızı istiyorum :)) Kişi 65 yaşında ya da daha fazlaysa \"Emekli oldunuz\" yanıtını, 65 yaşından küçükse emekliliğine kaç yıl kaldığını da hesaplayarak \"(isim) emekliliğine (yıl) kaldı.\" yanıtını versin."
   ]
  },
  {
   "cell_type": "code",
   "execution_count": 4,
   "metadata": {},
   "outputs": [
    {
     "name": "stdout",
     "output_type": "stream",
     "text": [
      "ali emekliliğine 35 yıl kaldı.\n"
     ]
    }
   ],
   "source": [
    "from datetime import datetime\n",
    "\n",
    "# Yaş hesaplayan fonksiyon\n",
    "def yas_hesapla(dogum_yili):\n",
    "    mevcut_yil = datetime.now().year  # Güncel yılı al\n",
    "    yas = mevcut_yil - dogum_yili\n",
    "    return yas\n",
    "\n",
    "# Emeklilik durumu kontrol eden fonksiyon\n",
    "def emeklilik_durumu(isim, dogum_yili):\n",
    "    yas = yas_hesapla(dogum_yili)  # Yaş hesaplama fonksiyonunu çağır\n",
    "\n",
    "    if yas >= 65:\n",
    "        print(\"Emekli oldunuz.\")\n",
    "    else:\n",
    "        kalan_yil = 65 - yas\n",
    "        print(\"{} emekliliğine {} yıl kaldı.\".format(isim, kalan_yil))\n",
    "\n",
    "# Kullanıcıdan giriş alma\n",
    "isim = input(\"Lütfen adınızı giriniz: \")\n",
    "dogum_yili = int(input(\"Lütfen doğum yılınızı giriniz: \"))\n",
    "\n",
    "# Fonksiyonu çağır\n",
    "emeklilik_durumu(isim, dogum_yili)"
   ]
  },
  {
   "cell_type": "code",
   "execution_count": null,
   "metadata": {},
   "outputs": [],
   "source": []
  }
 ],
 "metadata": {
  "kernelspec": {
   "display_name": "Python 3",
   "language": "python",
   "name": "python3"
  },
  "language_info": {
   "codemirror_mode": {
    "name": "ipython",
    "version": 3
   },
   "file_extension": ".py",
   "mimetype": "text/x-python",
   "name": "python",
   "nbconvert_exporter": "python",
   "pygments_lexer": "ipython3",
   "version": "3.12.2"
  }
 },
 "nbformat": 4,
 "nbformat_minor": 2
}
